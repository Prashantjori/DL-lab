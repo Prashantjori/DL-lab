{
  "nbformat": 4,
  "nbformat_minor": 0,
  "metadata": {
    "colab": {
      "provenance": [],
      "authorship_tag": "ABX9TyOlkJFCiktdoAWFEXLqaEqn",
      "include_colab_link": true
    },
    "kernelspec": {
      "name": "python3",
      "display_name": "Python 3"
    },
    "language_info": {
      "name": "python"
    }
  },
  "cells": [
    {
      "cell_type": "markdown",
      "metadata": {
        "id": "view-in-github",
        "colab_type": "text"
      },
      "source": [
        "<a href=\"https://colab.research.google.com/github/hitman-github/DL-lab/blob/main/Deeplprac4.ipynb\" target=\"_parent\"><img src=\"https://colab.research.google.com/assets/colab-badge.svg\" alt=\"Open In Colab\"/></a>"
      ]
    },
    {
      "cell_type": "code",
      "execution_count": 1,
      "metadata": {
        "colab": {
          "base_uri": "https://localhost:8080/"
        },
        "id": "mYqfhG03kcvh",
        "outputId": "137b157a-d2b4-479d-b5a6-d39f509e37d0"
      },
      "outputs": [
        {
          "output_type": "stream",
          "name": "stdout",
          "text": [
            "Downloading data from https://storage.googleapis.com/tensorflow/tf-keras-datasets/mnist.npz\n",
            "11490434/11490434 [==============================] - 0s 0us/step\n",
            "Epoch 1/10\n",
            "1688/1688 [==============================] - 24s 14ms/step - loss: 0.0264 - val_loss: 0.0148\n",
            "Epoch 2/10\n",
            "1688/1688 [==============================] - 12s 7ms/step - loss: 0.0131 - val_loss: 0.0118\n",
            "Epoch 3/10\n",
            "1688/1688 [==============================] - 12s 7ms/step - loss: 0.0112 - val_loss: 0.0106\n",
            "Epoch 4/10\n",
            "1688/1688 [==============================] - 12s 7ms/step - loss: 0.0103 - val_loss: 0.0102\n",
            "Epoch 5/10\n",
            "1688/1688 [==============================] - 11s 7ms/step - loss: 0.0097 - val_loss: 0.0095\n",
            "Epoch 6/10\n",
            "1688/1688 [==============================] - 12s 7ms/step - loss: 0.0093 - val_loss: 0.0091\n",
            "Epoch 7/10\n",
            "1688/1688 [==============================] - 12s 7ms/step - loss: 0.0089 - val_loss: 0.0088\n",
            "Epoch 8/10\n",
            "1688/1688 [==============================] - 11s 6ms/step - loss: 0.0085 - val_loss: 0.0085\n",
            "Epoch 9/10\n",
            "1688/1688 [==============================] - 11s 7ms/step - loss: 0.0083 - val_loss: 0.0085\n",
            "Epoch 10/10\n",
            "1688/1688 [==============================] - 12s 7ms/step - loss: 0.0081 - val_loss: 0.0081\n"
          ]
        }
      ],
      "source": [
        "# Import required libraries\n",
        "import tensorflow as tf\n",
        "from tensorflow import keras\n",
        "import numpy as np\n",
        "# Upload/access the dataset (You can replace this with your dataset)\n",
        "(x_train, _), (x_test, _) = keras.datasets.mnist.load_data()\n",
        "x_train, x_test = x_train / 255.0, x_test / 255.0 # Normalize pixel values\n",
        "# Define the model architecture for the autoencoder\n",
        "latent_dim = 32 # Adjust the dimension as needed\n",
        "# Encoder network\n",
        "encoder = keras.Sequential([\n",
        "keras.layers.Flatten(input_shape=(28, 28)),\n",
        "keras.layers.Dense(128, activation='relu'),\n",
        "keras.layers.Dense(latent_dim, activation='relu')\n",
        "])\n",
        "# Decoder network\n",
        "decoder = keras.Sequential([\n",
        "keras.layers.Input(shape=(latent_dim,)),\n",
        "keras.layers.Dense(128, activation='relu'),\n",
        "keras.layers.Dense(28 * 28, activation='sigmoid'),\n",
        "keras.layers.Reshape((28, 28))\n",
        "])\n",
        "# Combine the encoder and decoder to create the autoencoder\n",
        "autoencoder = keras.Sequential([encoder, decoder])\n",
        "# Compile the autoencoder\n",
        "autoencoder.compile(optimizer='adam',\n",
        "loss='mean_squared_error') # Use MSE for reconstruction loss\n",
        "# Train the autoencoder\n",
        "autoencoder.fit(x_train, x_train, epochs=10, batch_size=32, validation_split=0.1)\n",
        "# Compile the encoder and decoder separately if you want to use them for anomaly detection\n",
        "encoder.compile(optimizer='adam', loss='mean_squared_error')\n",
        "decoder.compile(optimizer='adam', loss='mean_squared_error')"
      ]
    }
  ]
}